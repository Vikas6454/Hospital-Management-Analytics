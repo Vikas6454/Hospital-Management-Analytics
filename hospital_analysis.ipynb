{
 "cells": [
  {
   "cell_type": "markdown",
   "id": "8d64fe96",
   "metadata": {},
   "source": [
    "# 🏥 Hospital Management System Analysis\n",
    "This notebook performs exploratory data analysis on hospital appointment data."
   ]
  },
  {
   "cell_type": "code",
   "execution_count": null,
   "id": "b0b9275f",
   "metadata": {},
   "outputs": [],
   "source": [
    "import pandas as pd\n",
    "import matplotlib.pyplot as plt\n",
    "import seaborn as sns"
   ]
  },
  {
   "cell_type": "code",
   "execution_count": null,
   "id": "7441f341",
   "metadata": {},
   "outputs": [],
   "source": [
    "df = pd.read_csv('hospital_data_sample.csv')\n",
    "df.head()"
   ]
  },
  {
   "cell_type": "code",
   "execution_count": null,
   "id": "e2e34a22",
   "metadata": {},
   "outputs": [],
   "source": [
    "df['Status'].value_counts().plot(kind='bar', color='skyblue')\n",
    "plt.title('Appointment Status Distribution')\n",
    "plt.xlabel('Status')\n",
    "plt.ylabel('Count')\n",
    "plt.show()"
   ]
  },
  {
   "cell_type": "code",
   "execution_count": null,
   "id": "887782c1",
   "metadata": {},
   "outputs": [],
   "source": [
    "sns.countplot(data=df, x='Department', hue='Status')\n",
    "plt.title('Appointments by Department and Status')\n",
    "plt.xticks(rotation=45)\n",
    "plt.tight_layout()\n",
    "plt.show()"
   ]
  }
 ],
 "metadata": {},
 "nbformat": 4,
 "nbformat_minor": 5
}
